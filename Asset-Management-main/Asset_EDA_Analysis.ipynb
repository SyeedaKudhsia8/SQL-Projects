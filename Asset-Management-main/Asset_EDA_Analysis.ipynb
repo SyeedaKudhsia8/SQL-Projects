{
 "cells": [
  {
   "cell_type": "markdown",
   "id": "9ec06a60",
   "metadata": {},
   "source": [
    "# 📊 Property Management Analysis\n",
    "\n",
    "Business Questions answered using Python EDA."
   ]
  },
  {
   "cell_type": "markdown",
   "id": "5be07ace-5329-4b68-9d98-90587fe3ebce",
   "metadata": {},
   "source": [
    "## Load the Data"
   ]
  },
  {
   "cell_type": "code",
   "execution_count": 40,
   "id": "2bde26db-0172-4b14-9923-d67fa21260c8",
   "metadata": {},
   "outputs": [
    {
     "name": "stdout",
     "output_type": "stream",
     "text": [
      "Requirement already satisfied: openpyxl in /Library/Frameworks/Python.framework/Versions/3.11/lib/python3.11/site-packages (3.1.5)\n",
      "Requirement already satisfied: et-xmlfile in /Library/Frameworks/Python.framework/Versions/3.11/lib/python3.11/site-packages (from openpyxl) (2.0.0)\n",
      "Note: you may need to restart the kernel to use updated packages.\n"
     ]
    }
   ],
   "source": [
    "pip install openpyxl"
   ]
  },
  {
   "cell_type": "code",
   "execution_count": 41,
   "id": "d3ecf8ec-ea88-495d-a4ed-ede1cc05f264",
   "metadata": {},
   "outputs": [
    {
     "data": {
      "text/html": [
       "<div>\n",
       "<style scoped>\n",
       "    .dataframe tbody tr th:only-of-type {\n",
       "        vertical-align: middle;\n",
       "    }\n",
       "\n",
       "    .dataframe tbody tr th {\n",
       "        vertical-align: top;\n",
       "    }\n",
       "\n",
       "    .dataframe thead th {\n",
       "        text-align: right;\n",
       "    }\n",
       "</style>\n",
       "<table border=\"1\" class=\"dataframe\">\n",
       "  <thead>\n",
       "    <tr style=\"text-align: right;\">\n",
       "      <th></th>\n",
       "      <th>Property_ID</th>\n",
       "      <th>Manager_ID</th>\n",
       "      <th>Property_Name</th>\n",
       "      <th>Property_Type</th>\n",
       "      <th>GLA_SqFt</th>\n",
       "      <th>Occupied_SqFt</th>\n",
       "      <th>Vacant_SqFt</th>\n",
       "      <th>Occupancy_%</th>\n",
       "      <th>Gross_Value</th>\n",
       "    </tr>\n",
       "  </thead>\n",
       "  <tbody>\n",
       "    <tr>\n",
       "      <th>0</th>\n",
       "      <td>PROP0001</td>\n",
       "      <td>MGR010</td>\n",
       "      <td>Property 1</td>\n",
       "      <td>Office</td>\n",
       "      <td>6704</td>\n",
       "      <td>30629</td>\n",
       "      <td>-23925</td>\n",
       "      <td>456.88</td>\n",
       "      <td>44262592.68</td>\n",
       "    </tr>\n",
       "    <tr>\n",
       "      <th>1</th>\n",
       "      <td>PROP0002</td>\n",
       "      <td>MGR006</td>\n",
       "      <td>Property 2</td>\n",
       "      <td>Office</td>\n",
       "      <td>8848</td>\n",
       "      <td>1145</td>\n",
       "      <td>7703</td>\n",
       "      <td>12.94</td>\n",
       "      <td>59762532.60</td>\n",
       "    </tr>\n",
       "    <tr>\n",
       "      <th>2</th>\n",
       "      <td>PROP0003</td>\n",
       "      <td>MGR009</td>\n",
       "      <td>Property 3</td>\n",
       "      <td>Retail</td>\n",
       "      <td>22592</td>\n",
       "      <td>31430</td>\n",
       "      <td>-8838</td>\n",
       "      <td>139.12</td>\n",
       "      <td>8235074.64</td>\n",
       "    </tr>\n",
       "    <tr>\n",
       "      <th>3</th>\n",
       "      <td>PROP0004</td>\n",
       "      <td>MGR001</td>\n",
       "      <td>Property 4</td>\n",
       "      <td>Industrial</td>\n",
       "      <td>46743</td>\n",
       "      <td>16799</td>\n",
       "      <td>29944</td>\n",
       "      <td>35.94</td>\n",
       "      <td>62611983.20</td>\n",
       "    </tr>\n",
       "    <tr>\n",
       "      <th>4</th>\n",
       "      <td>PROP0005</td>\n",
       "      <td>MGR010</td>\n",
       "      <td>Property 5</td>\n",
       "      <td>Industrial</td>\n",
       "      <td>7924</td>\n",
       "      <td>30590</td>\n",
       "      <td>-22666</td>\n",
       "      <td>386.04</td>\n",
       "      <td>98136605.84</td>\n",
       "    </tr>\n",
       "  </tbody>\n",
       "</table>\n",
       "</div>"
      ],
      "text/plain": [
       "  Property_ID Manager_ID Property_Name Property_Type  GLA_SqFt  Occupied_SqFt  \\\n",
       "0    PROP0001     MGR010    Property 1        Office      6704          30629   \n",
       "1    PROP0002     MGR006    Property 2        Office      8848           1145   \n",
       "2    PROP0003     MGR009    Property 3        Retail     22592          31430   \n",
       "3    PROP0004     MGR001    Property 4    Industrial     46743          16799   \n",
       "4    PROP0005     MGR010    Property 5    Industrial      7924          30590   \n",
       "\n",
       "   Vacant_SqFt  Occupancy_%  Gross_Value  \n",
       "0       -23925       456.88  44262592.68  \n",
       "1         7703        12.94  59762532.60  \n",
       "2        -8838       139.12   8235074.64  \n",
       "3        29944        35.94  62611983.20  \n",
       "4       -22666       386.04  98136605.84  "
      ]
     },
     "execution_count": 41,
     "metadata": {},
     "output_type": "execute_result"
    }
   ],
   "source": [
    "import pandas as pd\n",
    "\n",
    "# Load data\n",
    "properties = pd.read_excel('Asset_Management_Dataset.xlsx', sheet_name='Property_Details')\n",
    "asset_managers = pd.read_excel('Asset_Management_Dataset.xlsx', sheet_name='Asset_Managers')\n",
    "property_types = pd.read_excel('Asset_Management_Dataset.xlsx', sheet_name='Properties')\n",
    "\n",
    "properties.head()"
   ]
  },
  {
   "cell_type": "markdown",
   "id": "94eef9c9-89db-43d6-8da1-f63af8c05231",
   "metadata": {},
   "source": [
    "## 1. Average occupancy percentage across all properties"
   ]
  },
  {
   "cell_type": "code",
   "execution_count": 42,
   "id": "27eccc65-121d-4d2d-89b8-fa70e45b7b5d",
   "metadata": {},
   "outputs": [
    {
     "data": {
      "text/plain": [
       "np.float64(187.41612)"
      ]
     },
     "execution_count": 42,
     "metadata": {},
     "output_type": "execute_result"
    }
   ],
   "source": [
    "properties['Occupancy_%'].mean()"
   ]
  },
  {
   "cell_type": "markdown",
   "id": "1ed23197-974e-4fbe-a10b-8a68d1b4fd50",
   "metadata": {},
   "source": [
    "## 2. Asset manager with the highest average occupancy"
   ]
  },
  {
   "cell_type": "code",
   "execution_count": 43,
   "id": "7d09bee9-a01e-4ad7-8261-d90d1444fccd",
   "metadata": {},
   "outputs": [
    {
     "data": {
      "text/plain": [
       "Manager_ID\n",
       "MGR008    258.632626\n",
       "Name: Occupancy_%, dtype: float64"
      ]
     },
     "execution_count": 43,
     "metadata": {},
     "output_type": "execute_result"
    }
   ],
   "source": [
    "properties.groupby('Manager_ID')['Occupancy_%'].mean().sort_values(ascending=False).head(1)"
   ]
  },
  {
   "cell_type": "markdown",
   "id": "1f331b25-bb4b-405e-9c13-5ae044f0f655",
   "metadata": {},
   "source": [
    "## 3. Total gross value managed by each asset manager"
   ]
  },
  {
   "cell_type": "code",
   "execution_count": 44,
   "id": "6f6e0aa9-4223-41df-ad0b-eebd5e44d974",
   "metadata": {},
   "outputs": [
    {
     "data": {
      "text/plain": [
       "Manager_ID\n",
       "MGR001    6.053228e+09\n",
       "MGR010    5.797347e+09\n",
       "MGR005    5.511484e+09\n",
       "MGR003    5.451312e+09\n",
       "MGR007    5.151959e+09\n",
       "MGR008    4.892684e+09\n",
       "MGR009    4.762187e+09\n",
       "MGR006    4.457225e+09\n",
       "MGR004    4.433256e+09\n",
       "MGR002    3.858930e+09\n",
       "Name: Gross_Value, dtype: float64"
      ]
     },
     "execution_count": 44,
     "metadata": {},
     "output_type": "execute_result"
    }
   ],
   "source": [
    "properties.groupby('Manager_ID')['Gross_Value'].sum().sort_values(ascending=False)"
   ]
  },
  {
   "cell_type": "markdown",
   "id": "89d5a3d1-e9e1-4b18-91d9-27aad9db9496",
   "metadata": {},
   "source": [
    "## 4. Properties with occupancy below 85%"
   ]
  },
  {
   "cell_type": "code",
   "execution_count": 45,
   "id": "f082710b-8f94-497d-8d99-6b0197ddadc6",
   "metadata": {},
   "outputs": [
    {
     "data": {
      "text/html": [
       "<div>\n",
       "<style scoped>\n",
       "    .dataframe tbody tr th:only-of-type {\n",
       "        vertical-align: middle;\n",
       "    }\n",
       "\n",
       "    .dataframe tbody tr th {\n",
       "        vertical-align: top;\n",
       "    }\n",
       "\n",
       "    .dataframe thead th {\n",
       "        text-align: right;\n",
       "    }\n",
       "</style>\n",
       "<table border=\"1\" class=\"dataframe\">\n",
       "  <thead>\n",
       "    <tr style=\"text-align: right;\">\n",
       "      <th></th>\n",
       "      <th>Property_ID</th>\n",
       "      <th>Manager_ID</th>\n",
       "      <th>Property_Name</th>\n",
       "      <th>Property_Type</th>\n",
       "      <th>GLA_SqFt</th>\n",
       "      <th>Occupied_SqFt</th>\n",
       "      <th>Vacant_SqFt</th>\n",
       "      <th>Occupancy_%</th>\n",
       "      <th>Gross_Value</th>\n",
       "    </tr>\n",
       "  </thead>\n",
       "  <tbody>\n",
       "    <tr>\n",
       "      <th>1</th>\n",
       "      <td>PROP0002</td>\n",
       "      <td>MGR006</td>\n",
       "      <td>Property 2</td>\n",
       "      <td>Office</td>\n",
       "      <td>8848</td>\n",
       "      <td>1145</td>\n",
       "      <td>7703</td>\n",
       "      <td>12.94</td>\n",
       "      <td>59762532.60</td>\n",
       "    </tr>\n",
       "    <tr>\n",
       "      <th>3</th>\n",
       "      <td>PROP0004</td>\n",
       "      <td>MGR001</td>\n",
       "      <td>Property 4</td>\n",
       "      <td>Industrial</td>\n",
       "      <td>46743</td>\n",
       "      <td>16799</td>\n",
       "      <td>29944</td>\n",
       "      <td>35.94</td>\n",
       "      <td>62611983.20</td>\n",
       "    </tr>\n",
       "    <tr>\n",
       "      <th>5</th>\n",
       "      <td>PROP0006</td>\n",
       "      <td>MGR003</td>\n",
       "      <td>Property 6</td>\n",
       "      <td>Retail</td>\n",
       "      <td>28208</td>\n",
       "      <td>22453</td>\n",
       "      <td>5755</td>\n",
       "      <td>79.60</td>\n",
       "      <td>19820657.33</td>\n",
       "    </tr>\n",
       "    <tr>\n",
       "      <th>8</th>\n",
       "      <td>PROP0009</td>\n",
       "      <td>MGR009</td>\n",
       "      <td>Property 9</td>\n",
       "      <td>Retail</td>\n",
       "      <td>40882</td>\n",
       "      <td>19388</td>\n",
       "      <td>21494</td>\n",
       "      <td>47.42</td>\n",
       "      <td>94426457.69</td>\n",
       "    </tr>\n",
       "    <tr>\n",
       "      <th>10</th>\n",
       "      <td>PROP0011</td>\n",
       "      <td>MGR005</td>\n",
       "      <td>Property 11</td>\n",
       "      <td>Industrial</td>\n",
       "      <td>49508</td>\n",
       "      <td>16587</td>\n",
       "      <td>32921</td>\n",
       "      <td>33.50</td>\n",
       "      <td>52624504.23</td>\n",
       "    </tr>\n",
       "    <tr>\n",
       "      <th>...</th>\n",
       "      <td>...</td>\n",
       "      <td>...</td>\n",
       "      <td>...</td>\n",
       "      <td>...</td>\n",
       "      <td>...</td>\n",
       "      <td>...</td>\n",
       "      <td>...</td>\n",
       "      <td>...</td>\n",
       "      <td>...</td>\n",
       "    </tr>\n",
       "    <tr>\n",
       "      <th>990</th>\n",
       "      <td>PROP0991</td>\n",
       "      <td>MGR006</td>\n",
       "      <td>Property 991</td>\n",
       "      <td>Office</td>\n",
       "      <td>37632</td>\n",
       "      <td>26351</td>\n",
       "      <td>11281</td>\n",
       "      <td>70.02</td>\n",
       "      <td>80297089.34</td>\n",
       "    </tr>\n",
       "    <tr>\n",
       "      <th>993</th>\n",
       "      <td>PROP0994</td>\n",
       "      <td>MGR009</td>\n",
       "      <td>Property 994</td>\n",
       "      <td>Industrial</td>\n",
       "      <td>24172</td>\n",
       "      <td>8366</td>\n",
       "      <td>15806</td>\n",
       "      <td>34.61</td>\n",
       "      <td>46934188.12</td>\n",
       "    </tr>\n",
       "    <tr>\n",
       "      <th>994</th>\n",
       "      <td>PROP0995</td>\n",
       "      <td>MGR006</td>\n",
       "      <td>Property 995</td>\n",
       "      <td>Office</td>\n",
       "      <td>33994</td>\n",
       "      <td>15949</td>\n",
       "      <td>18045</td>\n",
       "      <td>46.92</td>\n",
       "      <td>12752200.46</td>\n",
       "    </tr>\n",
       "    <tr>\n",
       "      <th>995</th>\n",
       "      <td>PROP0996</td>\n",
       "      <td>MGR007</td>\n",
       "      <td>Property 996</td>\n",
       "      <td>Office</td>\n",
       "      <td>16036</td>\n",
       "      <td>11185</td>\n",
       "      <td>4851</td>\n",
       "      <td>69.75</td>\n",
       "      <td>98076254.48</td>\n",
       "    </tr>\n",
       "    <tr>\n",
       "      <th>997</th>\n",
       "      <td>PROP0998</td>\n",
       "      <td>MGR005</td>\n",
       "      <td>Property 998</td>\n",
       "      <td>Office</td>\n",
       "      <td>33220</td>\n",
       "      <td>5951</td>\n",
       "      <td>27269</td>\n",
       "      <td>17.91</td>\n",
       "      <td>7656183.83</td>\n",
       "    </tr>\n",
       "  </tbody>\n",
       "</table>\n",
       "<p>441 rows × 9 columns</p>\n",
       "</div>"
      ],
      "text/plain": [
       "    Property_ID Manager_ID Property_Name Property_Type  GLA_SqFt  \\\n",
       "1      PROP0002     MGR006    Property 2        Office      8848   \n",
       "3      PROP0004     MGR001    Property 4    Industrial     46743   \n",
       "5      PROP0006     MGR003    Property 6        Retail     28208   \n",
       "8      PROP0009     MGR009    Property 9        Retail     40882   \n",
       "10     PROP0011     MGR005   Property 11    Industrial     49508   \n",
       "..          ...        ...           ...           ...       ...   \n",
       "990    PROP0991     MGR006  Property 991        Office     37632   \n",
       "993    PROP0994     MGR009  Property 994    Industrial     24172   \n",
       "994    PROP0995     MGR006  Property 995        Office     33994   \n",
       "995    PROP0996     MGR007  Property 996        Office     16036   \n",
       "997    PROP0998     MGR005  Property 998        Office     33220   \n",
       "\n",
       "     Occupied_SqFt  Vacant_SqFt  Occupancy_%  Gross_Value  \n",
       "1             1145         7703        12.94  59762532.60  \n",
       "3            16799        29944        35.94  62611983.20  \n",
       "5            22453         5755        79.60  19820657.33  \n",
       "8            19388        21494        47.42  94426457.69  \n",
       "10           16587        32921        33.50  52624504.23  \n",
       "..             ...          ...          ...          ...  \n",
       "990          26351        11281        70.02  80297089.34  \n",
       "993           8366        15806        34.61  46934188.12  \n",
       "994          15949        18045        46.92  12752200.46  \n",
       "995          11185         4851        69.75  98076254.48  \n",
       "997           5951        27269        17.91   7656183.83  \n",
       "\n",
       "[441 rows x 9 columns]"
      ]
     },
     "execution_count": 45,
     "metadata": {},
     "output_type": "execute_result"
    }
   ],
   "source": [
    "properties[properties['Occupancy_%'] < 85]"
   ]
  },
  {
   "cell_type": "markdown",
   "id": "00e61b8c-4eca-4851-bbd0-e508fae463b5",
   "metadata": {},
   "source": [
    "## 5. Distribution of occupancy percentage across property types"
   ]
  },
  {
   "cell_type": "code",
   "execution_count": 46,
   "id": "2772a27b-811d-4e29-9678-013f874584ae",
   "metadata": {},
   "outputs": [
    {
     "name": "stdout",
     "output_type": "stream",
     "text": [
      "Index(['Property_ID', 'Manager_ID', 'Property_Name', 'Property_Type',\n",
      "       'GLA_SqFt', 'Occupied_SqFt', 'Vacant_SqFt', 'Occupancy_%',\n",
      "       'Gross_Value'],\n",
      "      dtype='object')\n"
     ]
    }
   ],
   "source": [
    "print(properties.columns)"
   ]
  },
  {
   "cell_type": "code",
   "execution_count": 47,
   "id": "cc18b21b-ee6f-4ba4-98c6-b3fb7c99c9fa",
   "metadata": {},
   "outputs": [
    {
     "name": "stdout",
     "output_type": "stream",
     "text": [
      "Index(['Property_ID', 'Manager_ID', 'Property_Name', 'Property_Type',\n",
      "       'GLA_SqFt', 'Occupied_SqFt', 'Vacant_SqFt', 'Occupancy_%'],\n",
      "      dtype='object')\n"
     ]
    }
   ],
   "source": [
    "print(property_types.columns)"
   ]
  },
  {
   "cell_type": "code",
   "execution_count": 49,
   "id": "ba9e7576-a3ff-43e4-bb05-176d7bd5b1c7",
   "metadata": {},
   "outputs": [
    {
     "name": "stdout",
     "output_type": "stream",
     "text": [
      "Index(['Property_ID', 'Manager_ID', 'Property_Name', 'Property_Type',\n",
      "       'GLA_SqFt', 'Occupied_SqFt', 'Vacant_SqFt', 'Occupancy_%'],\n",
      "      dtype='object')\n",
      "Index(['Property_ID', 'Manager_ID', 'Property_Name', 'Property_Type',\n",
      "       'GLA_SqFt', 'Occupied_SqFt', 'Vacant_SqFt', 'Occupancy_%',\n",
      "       'Gross_Value'],\n",
      "      dtype='object')\n"
     ]
    }
   ],
   "source": [
    "import pandas as pd\n",
    "\n",
    "# Load the sheets\n",
    "file_path = \"Asset_Management_Dataset.xlsx\"\n",
    "properties = pd.read_excel(file_path, sheet_name=\"Properties\")\n",
    "property_types = pd.read_excel(file_path, sheet_name=\"Property_Details\")\n",
    "\n",
    "# Check column names to avoid typos\n",
    "print(properties.columns)\n",
    "print(property_types.columns)\n",
    "\n",
    "\n"
   ]
  },
  {
   "cell_type": "code",
   "execution_count": 50,
   "id": "7d99d554-5db7-4511-9b8a-21f80ae2e282",
   "metadata": {},
   "outputs": [],
   "source": [
    "merged_df = pd.merge(properties, property_types, on='Property_Type', how='left')\n"
   ]
  },
  {
   "cell_type": "code",
   "execution_count": 11,
   "id": "b2730cd1",
   "metadata": {},
   "outputs": [
    {
     "name": "stderr",
     "output_type": "stream",
     "text": [
      "/var/folders/l9/bq8y_50n0hx5qtwqd93nnx4w0000gn/T/ipykernel_61623/2821997857.py:9: FutureWarning: \n",
      "\n",
      "Passing `palette` without assigning `hue` is deprecated and will be removed in v0.14.0. Assign the `x` variable to `hue` and set `legend=False` for the same effect.\n",
      "\n",
      "  sns.barplot(x=avg_occupancy.index, y=avg_occupancy.values, palette=\"coolwarm\")\n"
     ]
    },
    {
     "data": {
      "image/png": "[encoded data removed]",
      "text/plain": [
       "<Figure size 800x500 with 1 Axes>"
      ]
     },
     "metadata": {},
     "output_type": "display_data"
    }
   ],
   "source": [
    "# Drop rows with missing values in required columns\n",
    "df = df.dropna(subset=[\"Property_Type\", \"Occupancy_%\"])\n",
    "\n",
    "# Group and calculate average\n",
    "avg_occupancy = df.groupby(\"Property_Type\")[\"Occupancy_%\"].mean().sort_values(ascending=False)\n",
    "\n",
    "# Plot as bar chart\n",
    "plt.figure(figsize=(8, 5))\n",
    "sns.barplot(x=avg_occupancy.index, y=avg_occupancy.values, palette=\"coolwarm\")\n",
    "plt.title(\"Average Occupancy Rate by Property Type\")\n",
    "plt.ylabel(\"Occupancy (%)\")\n",
    "plt.xlabel(\"Property Type\")\n",
    "plt.xticks(rotation=45)\n",
    "plt.tight_layout()\n",
    "plt.show()"
   ]
  },
  {
   "cell_type": "markdown",
   "id": "fe134949",
   "metadata": {},
   "source": [
    "## 6: Asset Manager with Highest Total Gross Value"
   ]
  },
  {
   "cell_type": "code",
   "execution_count": 17,
   "id": "db8ab7be",
   "metadata": {},
   "outputs": [
    {
     "name": "stdout",
     "output_type": "stream",
     "text": [
      "Asset Manager with Highest Total Gross Value:\n",
      "\n",
      "Manager_ID\n",
      "MGR001    6.053228e+09\n",
      "Name: Gross_Value, dtype: float64\n"
     ]
    }
   ],
   "source": [
    "\n",
    "# Drop rows with missing gross values or manager IDs\n",
    "df = df.dropna(subset=[\"Manager_ID\", \"Gross_Value\"])\n",
    "\n",
    "# Group by manager and sum the gross value\n",
    "gross_by_manager = df.groupby(\"Manager_ID\")[\"Gross_Value\"].sum().sort_values(ascending=False)\n",
    "\n",
    "\n",
    "# Display the top manager(s)\n",
    "top_manager = gross_by_manager.head(1)\n",
    "print(\"Asset Manager with Highest Total Gross Value:\\n\")\n",
    "print(top_manager)\n"
   ]
  },
  {
   "cell_type": "markdown",
   "id": "a82b5da8",
   "metadata": {},
   "source": [
    "## 7: Properties with Occupancy Below 50%"
   ]
  },
  {
   "cell_type": "code",
   "execution_count": 18,
   "id": "10a365c7",
   "metadata": {},
   "outputs": [
    {
     "name": "stdout",
     "output_type": "stream",
     "text": [
      "   Property_ID Property_Name  Occupancy_%\n",
      "1     PROP0002    Property 2        12.94\n",
      "3     PROP0004    Property 4        35.94\n",
      "8     PROP0009    Property 9        47.42\n",
      "10    PROP0011   Property 11        33.50\n",
      "14    PROP0015   Property 15         3.99\n"
     ]
    }
   ],
   "source": [
    "q7_result = df[df['Occupancy_%'] < 50]\n",
    "print(q7_result[['Property_ID', 'Property_Name', 'Occupancy_%']].head())\n"
   ]
  },
  {
   "cell_type": "markdown",
   "id": "6b278326",
   "metadata": {},
   "source": [
    "## 8: Gross Value Trends by City"
   ]
  },
  {
   "cell_type": "code",
   "execution_count": 27,
   "id": "d9b8a309-1c2a-4241-b4a1-96c86f79e6de",
   "metadata": {},
   "outputs": [
    {
     "name": "stdout",
     "output_type": "stream",
     "text": [
      "📋 Column names in 'Properties':\n",
      "['Property_ID', 'Manager_ID', 'Property_Name', 'Property_Type', 'GLA_SqFt', 'Occupied_SqFt', 'Vacant_SqFt', 'Occupancy_%', 'Gross_Value']\n",
      "📋 Column names in 'Properties':\n",
      "['Property_ID', 'Manager_ID', 'Property_Name', 'Property_Type', 'GLA_SqFt', 'Occupied_SqFt', 'Vacant_SqFt', 'Occupancy_%']\n"
     ]
    }
   ],
   "source": [
    "import pandas as pd\n",
    "\n",
    "# Load the Properties sheet\n",
    "file_path = \"Asset_Management_Dataset.xlsx\"\n",
    "\n",
    "properties = pd.read_excel(file_path, sheet_name=\"Properties\")\n",
    "\n",
    "properties_details = pd.read_excel(file_path, sheet_name=\"Property_Details\")\n",
    "\n",
    "# Print all column names\n",
    "print(\"📋 Column names in 'Properties':\")\n",
    "print(properties_details.columns.tolist())\n",
    "# Print all column names\n",
    "print(\"📋 Column names in 'Properties':\")\n",
    "print(properties.columns.tolist())\n"
   ]
  },
  {
   "cell_type": "code",
   "execution_count": 28,
   "id": "599678da",
   "metadata": {},
   "outputs": [
    {
     "name": "stderr",
     "output_type": "stream",
     "text": [
      "/var/folders/l9/bq8y_50n0hx5qtwqd93nnx4w0000gn/T/ipykernel_61623/3863609796.py:29: UserWarning: Glyph 128176 (\\N{MONEY BAG}) missing from font(s) DejaVu Sans.\n",
      "  plt.tight_layout()\n",
      "/Library/Frameworks/Python.framework/Versions/3.11/lib/python3.11/site-packages/IPython/core/pylabtools.py:170: UserWarning: Glyph 128176 (\\N{MONEY BAG}) missing from font(s) DejaVu Sans.\n",
      "  fig.canvas.print_figure(bytes_io, **kw)\n"
     ]
    },
    {
     "data": {
      "image/png": "[encoded data removed]",
      "text/plain": [
       "<Figure size 1000x600 with 1 Axes>"
      ]
     },
     "metadata": {},
     "output_type": "display_data"
    }
   ],
   "source": [
    "\n",
    "# Load data\n",
    "file_path = \"Asset_Management_Dataset.xlsx\"\n",
    "properties = pd.read_excel(file_path, sheet_name=\"Properties\")\n",
    "\n",
    "# Simulate City (as real city not available)\n",
    "np.random.seed(42)\n",
    "sample_cities = ['Delhi', 'Mumbai', 'Bangalore', 'Chennai', 'Kolkata']\n",
    "properties[\"City\"] = np.random.choice(sample_cities, size=len(properties))\n",
    "\n",
    "# Aggregate total Gross Value by City\n",
    "if 'Gross_Value' not in properties.columns:\n",
    "    # simulate Gross_Value if missing\n",
    "    properties['Gross_Value'] = np.random.randint(5e6, 2e7, size=len(properties))\n",
    "\n",
    "city_gv = properties.groupby(\"City\")[\"Gross_Value\"].sum().sort_values(ascending=False).reset_index()\n",
    "\n",
    "# Plotting\n",
    "plt.figure(figsize=(10, 6))\n",
    "sns.lineplot(data=city_gv, x=\"City\", y=\"Gross_Value\", marker='o', linewidth=2)\n",
    "plt.title(\"💰 Gross Value Trends by City (Simulated)\", fontsize=14)\n",
    "plt.xlabel(\"City\")\n",
    "plt.ylabel(\"Total Gross Value\")\n",
    "plt.grid(True)\n",
    "plt.tight_layout()\n",
    "plt.show()\n"
   ]
  },
  {
   "cell_type": "markdown",
   "id": "71690a11",
   "metadata": {},
   "source": [
    "## 9: Highest Avg Gross Value by Property Type"
   ]
  },
  {
   "cell_type": "code",
   "execution_count": 29,
   "id": "acf0a468",
   "metadata": {},
   "outputs": [
    {
     "name": "stdout",
     "output_type": "stream",
     "text": [
      "Property_Type\n",
      "Office        5.122792e+07\n",
      "Retail        5.108810e+07\n",
      "Industrial    4.882299e+07\n",
      "Name: Gross_Value, dtype: float64\n"
     ]
    },
    {
     "data": {
      "image/png": "[encoded data removed]",
      "text/plain": [
       "<Figure size 640x480 with 1 Axes>"
      ]
     },
     "metadata": {},
     "output_type": "display_data"
    }
   ],
   "source": [
    "q9_result = df.groupby('Property_Type')['Gross_Value'].mean().sort_values(ascending=False)\n",
    "print(q9_result)\n",
    "q9_result.plot(kind='barh', title='Avg Gross Value by Type', color='purple')\n",
    "plt.xlabel(\"Avg Gross Value\")\n",
    "plt.show()\n"
   ]
  },
  {
   "cell_type": "markdown",
   "id": "3302ab69",
   "metadata": {},
   "source": [
    "## 10: Managers with All Properties >90% Occupancy"
   ]
  },
  {
   "cell_type": "code",
   "execution_count": 33,
   "id": "105b5390",
   "metadata": {},
   "outputs": [
    {
     "data": {
      "text/plain": [
       "count    1000.000000\n",
       "mean      187.416120\n",
       "std       332.309904\n",
       "min         1.400000\n",
       "25%        50.147500\n",
       "50%        97.485000\n",
       "75%       181.340000\n",
       "max      3785.210000\n",
       "Name: Occupancy_%, dtype: float64"
      ]
     },
     "execution_count": 33,
     "metadata": {},
     "output_type": "execute_result"
    }
   ],
   "source": [
    "df['Occupancy_%'].describe()\n"
   ]
  },
  {
   "cell_type": "code",
   "execution_count": 34,
   "id": "fc1817b1-c59f-4e6e-949e-656b953c7564",
   "metadata": {},
   "outputs": [
    {
     "name": "stdout",
     "output_type": "stream",
     "text": [
      "Managers with at least one property <= 90% occupancy:\n",
      "  Manager_ID  Occupancy_%\n",
      "0     MGR001         3.88\n",
      "1     MGR002         3.57\n",
      "2     MGR003         3.70\n",
      "3     MGR004         1.71\n",
      "4     MGR005         5.02\n",
      "5     MGR006         1.40\n",
      "6     MGR007         3.43\n",
      "7     MGR008         5.72\n",
      "8     MGR009         3.24\n",
      "9     MGR010         2.42\n"
     ]
    }
   ],
   "source": [
    "manager_summary = df.groupby('Manager_ID')['Occupancy_%'].min().reset_index()\n",
    "low_occupancy = manager_summary[manager_summary['Occupancy_%'] <= 90]\n",
    "\n",
    "print(\"Managers with at least one property <= 90% occupancy:\")\n",
    "print(low_occupancy)\n"
   ]
  },
  {
   "cell_type": "code",
   "execution_count": 35,
   "id": "f9fb59c1-e52d-4f51-ba05-ebccdbcc1336",
   "metadata": {},
   "outputs": [
    {
     "name": "stdout",
     "output_type": "stream",
     "text": [
      "Managers with average occupancy over 90%:\n",
      "['MGR010' 'MGR006' 'MGR009' 'MGR001' 'MGR003' 'MGR007' 'MGR004' 'MGR005'\n",
      " 'MGR002' 'MGR008']\n"
     ]
    }
   ],
   "source": [
    "q10_avg = df.groupby('Manager_ID').filter(lambda x: x['Occupancy_%'].mean() > 90)\n",
    "managers_avg = q10_avg['Manager_ID'].unique()\n",
    "\n",
    "print(\"Managers with average occupancy over 90%:\")\n",
    "print(managers_avg)\n"
   ]
  },
  {
   "cell_type": "code",
   "execution_count": 36,
   "id": "50992489-0f0b-4b52-8c0c-7d3427ca3192",
   "metadata": {},
   "outputs": [
    {
     "name": "stderr",
     "output_type": "stream",
     "text": [
      "/var/folders/l9/bq8y_50n0hx5qtwqd93nnx4w0000gn/T/ipykernel_61623/3558278867.py:14: FutureWarning: \n",
      "\n",
      "Passing `palette` without assigning `hue` is deprecated and will be removed in v0.14.0. Assign the `y` variable to `hue` and set `legend=False` for the same effect.\n",
      "\n",
      "  sns.barplot(\n",
      "/var/folders/l9/bq8y_50n0hx5qtwqd93nnx4w0000gn/T/ipykernel_61623/3558278867.py:26: UserWarning: Glyph 127970 (\\N{OFFICE BUILDING}) missing from font(s) DejaVu Sans.\n",
      "  plt.tight_layout()\n",
      "/Library/Frameworks/Python.framework/Versions/3.11/lib/python3.11/site-packages/IPython/core/pylabtools.py:170: UserWarning: Glyph 127970 (\\N{OFFICE BUILDING}) missing from font(s) DejaVu Sans.\n",
      "  fig.canvas.print_figure(bytes_io, **kw)\n"
     ]
    },
    {
     "data": {
      "image/png": "[encoded data removed]",
      "text/plain": [
       "<Figure size 1000x600 with 1 Axes>"
      ]
     },
     "metadata": {},
     "output_type": "display_data"
    }
   ],
   "source": [
    "\n",
    "\n",
    "# Assuming df is already your merged DataFrame with 'Occupancy_%' and 'Manager_ID'\n",
    "# Group by Manager and calculate average occupancy\n",
    "manager_avg_occupancy = df.groupby('Manager_ID')['Occupancy_%'].mean().reset_index()\n",
    "\n",
    "# Sort descending\n",
    "manager_avg_occupancy = manager_avg_occupancy.sort_values(by='Occupancy_%', ascending=True)\n",
    "\n",
    "# Plot\n",
    "plt.figure(figsize=(10, 6))\n",
    "sns.barplot(\n",
    "    data=manager_avg_occupancy,\n",
    "    y='Manager_ID',\n",
    "    x='Occupancy_%',\n",
    "    palette='viridis'\n",
    ")\n",
    "\n",
    "plt.title('🏢 Average Occupancy % by Manager')\n",
    "plt.xlabel('Average Occupancy %')\n",
    "plt.ylabel('Manager ID')\n",
    "plt.axvline(90, color='red', linestyle='--', label='90% Threshold')\n",
    "plt.legend()\n",
    "plt.tight_layout()\n",
    "plt.show()\n"
   ]
  }
 ],
 "metadata": {
  "kernelspec": {
   "display_name": "Python 3 (ipykernel)",
   "language": "python",
   "name": "python3"
  },
  "language_info": {
   "codemirror_mode": {
    "name": "ipython",
    "version": 3
   },
   "file_extension": ".py",
   "mimetype": "text/x-python",
   "name": "python",
   "nbconvert_exporter": "python",
   "pygments_lexer": "ipython3",
   "version": "3.11.1"
  }
 },
 "nbformat": 4,
 "nbformat_minor": 5
}
